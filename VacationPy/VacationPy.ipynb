{
 "cells": [
  {
   "cell_type": "markdown",
   "metadata": {},
   "source": [
    "# VacationPy\n",
    "----\n",
    "\n",
    "#### Note\n",
    "* Keep an eye on your API usage. Use https://developers.google.com/maps/reporting/gmp-reporting as reference for how to monitor your usage and billing.\n",
    "\n",
    "* Instructions have been included for each segment. You do not have to follow them exactly, but they are included to help you think through the steps."
   ]
  },
  {
   "cell_type": "code",
   "execution_count": 1,
   "metadata": {},
   "outputs": [],
   "source": [
    "# pip install gmaps"
   ]
  },
  {
   "cell_type": "code",
   "execution_count": 3,
   "metadata": {},
   "outputs": [
    {
     "name": "stderr",
     "output_type": "stream",
     "text": [
      "Enabling notebook extension jupyter-gmaps/extension...\n",
      "      - Validating: ok\n"
     ]
    }
   ],
   "source": [
    "!jupyter nbextension enable --py gmaps"
   ]
  },
  {
   "cell_type": "code",
   "execution_count": 4,
   "metadata": {},
   "outputs": [],
   "source": [
    "# Dependencies and Setup\n",
    "import matplotlib.pyplot as plt\n",
    "import pandas as pd\n",
    "import numpy as np\n",
    "import requests\n",
    "import gmaps\n",
    "import os\n",
    "\n",
    "# Import API key\n",
    "from api_keys import g_key"
   ]
  },
  {
   "cell_type": "markdown",
   "metadata": {},
   "source": [
    "### Store Part I results into DataFrame\n",
    "* Load the csv exported in Part I to a DataFrame"
   ]
  },
  {
   "cell_type": "code",
   "execution_count": 5,
   "metadata": {},
   "outputs": [
    {
     "data": {
      "text/html": [
       "<div>\n",
       "<style scoped>\n",
       "    .dataframe tbody tr th:only-of-type {\n",
       "        vertical-align: middle;\n",
       "    }\n",
       "\n",
       "    .dataframe tbody tr th {\n",
       "        vertical-align: top;\n",
       "    }\n",
       "\n",
       "    .dataframe thead th {\n",
       "        text-align: right;\n",
       "    }\n",
       "</style>\n",
       "<table border=\"1\" class=\"dataframe\">\n",
       "  <thead>\n",
       "    <tr style=\"text-align: right;\">\n",
       "      <th></th>\n",
       "      <th>Unnamed: 0</th>\n",
       "      <th>City</th>\n",
       "      <th>Lat</th>\n",
       "      <th>Lng</th>\n",
       "      <th>Max Temp</th>\n",
       "      <th>Humidity</th>\n",
       "      <th>Cloudiness</th>\n",
       "      <th>Wind Speed</th>\n",
       "      <th>Country</th>\n",
       "      <th>Date</th>\n",
       "    </tr>\n",
       "  </thead>\n",
       "  <tbody>\n",
       "    <tr>\n",
       "      <th>0</th>\n",
       "      <td>0</td>\n",
       "      <td>Qinhuangdao</td>\n",
       "      <td>39.9317</td>\n",
       "      <td>119.5883</td>\n",
       "      <td>60.49</td>\n",
       "      <td>19</td>\n",
       "      <td>0</td>\n",
       "      <td>16.89</td>\n",
       "      <td>CN</td>\n",
       "      <td>1620171751</td>\n",
       "    </tr>\n",
       "    <tr>\n",
       "      <th>1</th>\n",
       "      <td>1</td>\n",
       "      <td>Jamestown</td>\n",
       "      <td>42.0970</td>\n",
       "      <td>-79.2353</td>\n",
       "      <td>60.80</td>\n",
       "      <td>82</td>\n",
       "      <td>90</td>\n",
       "      <td>5.75</td>\n",
       "      <td>US</td>\n",
       "      <td>1620171298</td>\n",
       "    </tr>\n",
       "    <tr>\n",
       "      <th>2</th>\n",
       "      <td>2</td>\n",
       "      <td>Puerto Ayora</td>\n",
       "      <td>-0.7393</td>\n",
       "      <td>-90.3518</td>\n",
       "      <td>80.60</td>\n",
       "      <td>74</td>\n",
       "      <td>20</td>\n",
       "      <td>18.41</td>\n",
       "      <td>EC</td>\n",
       "      <td>1620171302</td>\n",
       "    </tr>\n",
       "    <tr>\n",
       "      <th>3</th>\n",
       "      <td>3</td>\n",
       "      <td>Hithadhoo</td>\n",
       "      <td>-0.6000</td>\n",
       "      <td>73.0833</td>\n",
       "      <td>83.53</td>\n",
       "      <td>67</td>\n",
       "      <td>28</td>\n",
       "      <td>3.36</td>\n",
       "      <td>MV</td>\n",
       "      <td>1620171038</td>\n",
       "    </tr>\n",
       "    <tr>\n",
       "      <th>4</th>\n",
       "      <td>4</td>\n",
       "      <td>Camacha</td>\n",
       "      <td>33.0833</td>\n",
       "      <td>-16.3333</td>\n",
       "      <td>62.60</td>\n",
       "      <td>59</td>\n",
       "      <td>75</td>\n",
       "      <td>12.66</td>\n",
       "      <td>PT</td>\n",
       "      <td>1620171331</td>\n",
       "    </tr>\n",
       "  </tbody>\n",
       "</table>\n",
       "</div>"
      ],
      "text/plain": [
       "   Unnamed: 0          City      Lat       Lng  Max Temp  Humidity  \\\n",
       "0           0   Qinhuangdao  39.9317  119.5883     60.49        19   \n",
       "1           1     Jamestown  42.0970  -79.2353     60.80        82   \n",
       "2           2  Puerto Ayora  -0.7393  -90.3518     80.60        74   \n",
       "3           3     Hithadhoo  -0.6000   73.0833     83.53        67   \n",
       "4           4       Camacha  33.0833  -16.3333     62.60        59   \n",
       "\n",
       "   Cloudiness  Wind Speed Country        Date  \n",
       "0           0       16.89      CN  1620171751  \n",
       "1          90        5.75      US  1620171298  \n",
       "2          20       18.41      EC  1620171302  \n",
       "3          28        3.36      MV  1620171038  \n",
       "4          75       12.66      PT  1620171331  "
      ]
     },
     "execution_count": 5,
     "metadata": {},
     "output_type": "execute_result"
    }
   ],
   "source": [
    "\n",
    "file_path = pd.read_csv('../WeatherPy/output/cities.csv')\n",
    "\n",
    "# Store csv created in part one into a DataFrame\n",
    "df = pd.DataFrame(file_path)\n",
    "df.head()"
   ]
  },
  {
   "cell_type": "markdown",
   "metadata": {},
   "source": [
    "### Humidity Heatmap\n",
    "* Configure gmaps.\n",
    "* Use the Lat and Lng as locations and Humidity as the weight.\n",
    "* Add Heatmap layer to map."
   ]
  },
  {
   "cell_type": "code",
   "execution_count": 6,
   "metadata": {},
   "outputs": [],
   "source": [
    "# Configure gmaps\n",
    "gmaps.configure(api_key=g_key)"
   ]
  },
  {
   "cell_type": "code",
   "execution_count": 7,
   "metadata": {},
   "outputs": [
    {
     "data": {
      "application/vnd.jupyter.widget-view+json": {
       "model_id": "dc534a5f12e44087bf6129324dd17e9b",
       "version_major": 2,
       "version_minor": 0
      },
      "text/plain": [
       "Figure(layout=FigureLayout(height='420px'))"
      ]
     },
     "metadata": {},
     "output_type": "display_data"
    }
   ],
   "source": [
    "# Heatmap of humidity\n",
    "locations = df[['Lat','Lng']].astype(float)\n",
    "humidity = df['Humidity'].astype(float)\n",
    "\n",
    "fig = gmaps.figure()\n",
    "heat_layer = gmaps.heatmap_layer(locations,weights=humidity,dissipating=False,max_intensity=100,point_radius=4)\n",
    "fig.add_layer(heat_layer)\n",
    "\n",
    "fig"
   ]
  },
  {
   "cell_type": "markdown",
   "metadata": {},
   "source": [
    "### Create new DataFrame fitting weather criteria\n",
    "* Narrow down the cities to fit weather conditions.\n",
    "* Drop any rows will null values."
   ]
  },
  {
   "cell_type": "code",
   "execution_count": 10,
   "metadata": {},
   "outputs": [
    {
     "data": {
      "text/plain": [
       "10"
      ]
     },
     "execution_count": 10,
     "metadata": {},
     "output_type": "execute_result"
    }
   ],
   "source": [
    "# Narrow down cities that fit criteria and drop any results with null values\n",
    "new_df = df.loc[(df['Max Temp'] >70) & (df['Humidity'] < 50) & (df['Wind Speed'] < 6),:]\n",
    "len(new_df)"
   ]
  },
  {
   "cell_type": "markdown",
   "metadata": {},
   "source": [
    "### Hotel Map\n",
    "* Store into variable named `hotel_df`.\n",
    "* Add a \"Hotel Name\" column to the DataFrame.\n",
    "* Set parameters to search for hotels with 5000 meters.\n",
    "* Hit the Google Places API for each city's coordinates.\n",
    "* Store the first Hotel result into the DataFrame.\n",
    "* Plot markers on top of the heatmap."
   ]
  },
  {
   "cell_type": "code",
   "execution_count": 11,
   "metadata": {},
   "outputs": [
    {
     "data": {
      "text/html": [
       "<div>\n",
       "<style scoped>\n",
       "    .dataframe tbody tr th:only-of-type {\n",
       "        vertical-align: middle;\n",
       "    }\n",
       "\n",
       "    .dataframe tbody tr th {\n",
       "        vertical-align: top;\n",
       "    }\n",
       "\n",
       "    .dataframe thead th {\n",
       "        text-align: right;\n",
       "    }\n",
       "</style>\n",
       "<table border=\"1\" class=\"dataframe\">\n",
       "  <thead>\n",
       "    <tr style=\"text-align: right;\">\n",
       "      <th></th>\n",
       "      <th>City</th>\n",
       "      <th>Country</th>\n",
       "      <th>Lat</th>\n",
       "      <th>Lng</th>\n",
       "    </tr>\n",
       "  </thead>\n",
       "  <tbody>\n",
       "    <tr>\n",
       "      <th>0</th>\n",
       "      <td>Luk Pu</td>\n",
       "      <td>CN</td>\n",
       "      <td>23.1742</td>\n",
       "      <td>112.2809</td>\n",
       "    </tr>\n",
       "    <tr>\n",
       "      <th>1</th>\n",
       "      <td>Jintūr</td>\n",
       "      <td>IN</td>\n",
       "      <td>19.6167</td>\n",
       "      <td>76.7000</td>\n",
       "    </tr>\n",
       "    <tr>\n",
       "      <th>2</th>\n",
       "      <td>Centralina</td>\n",
       "      <td>BR</td>\n",
       "      <td>-18.5839</td>\n",
       "      <td>-49.1994</td>\n",
       "    </tr>\n",
       "    <tr>\n",
       "      <th>3</th>\n",
       "      <td>Charters Towers</td>\n",
       "      <td>AU</td>\n",
       "      <td>-20.1000</td>\n",
       "      <td>146.2667</td>\n",
       "    </tr>\n",
       "    <tr>\n",
       "      <th>4</th>\n",
       "      <td>Qarqīn</td>\n",
       "      <td>AF</td>\n",
       "      <td>37.4185</td>\n",
       "      <td>66.0436</td>\n",
       "    </tr>\n",
       "    <tr>\n",
       "      <th>5</th>\n",
       "      <td>Arlit</td>\n",
       "      <td>NE</td>\n",
       "      <td>18.7369</td>\n",
       "      <td>7.3853</td>\n",
       "    </tr>\n",
       "    <tr>\n",
       "      <th>6</th>\n",
       "      <td>Laguna</td>\n",
       "      <td>US</td>\n",
       "      <td>38.4210</td>\n",
       "      <td>-121.4238</td>\n",
       "    </tr>\n",
       "    <tr>\n",
       "      <th>7</th>\n",
       "      <td>Makkah al Mukarramah</td>\n",
       "      <td>SA</td>\n",
       "      <td>21.4267</td>\n",
       "      <td>39.8261</td>\n",
       "    </tr>\n",
       "    <tr>\n",
       "      <th>8</th>\n",
       "      <td>Kosonsoy</td>\n",
       "      <td>UZ</td>\n",
       "      <td>41.2561</td>\n",
       "      <td>71.5508</td>\n",
       "    </tr>\n",
       "    <tr>\n",
       "      <th>9</th>\n",
       "      <td>Najrān</td>\n",
       "      <td>SA</td>\n",
       "      <td>17.4924</td>\n",
       "      <td>44.1277</td>\n",
       "    </tr>\n",
       "  </tbody>\n",
       "</table>\n",
       "</div>"
      ],
      "text/plain": [
       "                   City Country      Lat       Lng\n",
       "0                Luk Pu      CN  23.1742  112.2809\n",
       "1                Jintūr      IN  19.6167   76.7000\n",
       "2            Centralina      BR -18.5839  -49.1994\n",
       "3       Charters Towers      AU -20.1000  146.2667\n",
       "4                Qarqīn      AF  37.4185   66.0436\n",
       "5                 Arlit      NE  18.7369    7.3853\n",
       "6                Laguna      US  38.4210 -121.4238\n",
       "7  Makkah al Mukarramah      SA  21.4267   39.8261\n",
       "8              Kosonsoy      UZ  41.2561   71.5508\n",
       "9                Najrān      SA  17.4924   44.1277"
      ]
     },
     "execution_count": 11,
     "metadata": {},
     "output_type": "execute_result"
    }
   ],
   "source": [
    "# Create DataFrame called hotel_df to store hotel names along with city, country and coordinates\n",
    "hotel_df = new_df[['City','Country','Lat','Lng']].reset_index(drop=True)\n",
    "hotel_df"
   ]
  },
  {
   "cell_type": "code",
   "execution_count": 12,
   "metadata": {},
   "outputs": [
    {
     "data": {
      "text/html": [
       "<div>\n",
       "<style scoped>\n",
       "    .dataframe tbody tr th:only-of-type {\n",
       "        vertical-align: middle;\n",
       "    }\n",
       "\n",
       "    .dataframe tbody tr th {\n",
       "        vertical-align: top;\n",
       "    }\n",
       "\n",
       "    .dataframe thead th {\n",
       "        text-align: right;\n",
       "    }\n",
       "</style>\n",
       "<table border=\"1\" class=\"dataframe\">\n",
       "  <thead>\n",
       "    <tr style=\"text-align: right;\">\n",
       "      <th></th>\n",
       "      <th>City</th>\n",
       "      <th>Country</th>\n",
       "      <th>Lat</th>\n",
       "      <th>Lng</th>\n",
       "      <th>Hotel Name</th>\n",
       "    </tr>\n",
       "  </thead>\n",
       "  <tbody>\n",
       "    <tr>\n",
       "      <th>0</th>\n",
       "      <td>Luk Pu</td>\n",
       "      <td>CN</td>\n",
       "      <td>23.1742</td>\n",
       "      <td>112.2809</td>\n",
       "      <td></td>\n",
       "    </tr>\n",
       "    <tr>\n",
       "      <th>1</th>\n",
       "      <td>Jintūr</td>\n",
       "      <td>IN</td>\n",
       "      <td>19.6167</td>\n",
       "      <td>76.7000</td>\n",
       "      <td></td>\n",
       "    </tr>\n",
       "    <tr>\n",
       "      <th>2</th>\n",
       "      <td>Centralina</td>\n",
       "      <td>BR</td>\n",
       "      <td>-18.5839</td>\n",
       "      <td>-49.1994</td>\n",
       "      <td></td>\n",
       "    </tr>\n",
       "    <tr>\n",
       "      <th>3</th>\n",
       "      <td>Charters Towers</td>\n",
       "      <td>AU</td>\n",
       "      <td>-20.1000</td>\n",
       "      <td>146.2667</td>\n",
       "      <td></td>\n",
       "    </tr>\n",
       "    <tr>\n",
       "      <th>4</th>\n",
       "      <td>Qarqīn</td>\n",
       "      <td>AF</td>\n",
       "      <td>37.4185</td>\n",
       "      <td>66.0436</td>\n",
       "      <td></td>\n",
       "    </tr>\n",
       "    <tr>\n",
       "      <th>5</th>\n",
       "      <td>Arlit</td>\n",
       "      <td>NE</td>\n",
       "      <td>18.7369</td>\n",
       "      <td>7.3853</td>\n",
       "      <td></td>\n",
       "    </tr>\n",
       "    <tr>\n",
       "      <th>6</th>\n",
       "      <td>Laguna</td>\n",
       "      <td>US</td>\n",
       "      <td>38.4210</td>\n",
       "      <td>-121.4238</td>\n",
       "      <td></td>\n",
       "    </tr>\n",
       "    <tr>\n",
       "      <th>7</th>\n",
       "      <td>Makkah al Mukarramah</td>\n",
       "      <td>SA</td>\n",
       "      <td>21.4267</td>\n",
       "      <td>39.8261</td>\n",
       "      <td></td>\n",
       "    </tr>\n",
       "    <tr>\n",
       "      <th>8</th>\n",
       "      <td>Kosonsoy</td>\n",
       "      <td>UZ</td>\n",
       "      <td>41.2561</td>\n",
       "      <td>71.5508</td>\n",
       "      <td></td>\n",
       "    </tr>\n",
       "    <tr>\n",
       "      <th>9</th>\n",
       "      <td>Najrān</td>\n",
       "      <td>SA</td>\n",
       "      <td>17.4924</td>\n",
       "      <td>44.1277</td>\n",
       "      <td></td>\n",
       "    </tr>\n",
       "  </tbody>\n",
       "</table>\n",
       "</div>"
      ],
      "text/plain": [
       "                   City Country      Lat       Lng Hotel Name\n",
       "0                Luk Pu      CN  23.1742  112.2809           \n",
       "1                Jintūr      IN  19.6167   76.7000           \n",
       "2            Centralina      BR -18.5839  -49.1994           \n",
       "3       Charters Towers      AU -20.1000  146.2667           \n",
       "4                Qarqīn      AF  37.4185   66.0436           \n",
       "5                 Arlit      NE  18.7369    7.3853           \n",
       "6                Laguna      US  38.4210 -121.4238           \n",
       "7  Makkah al Mukarramah      SA  21.4267   39.8261           \n",
       "8              Kosonsoy      UZ  41.2561   71.5508           \n",
       "9                Najrān      SA  17.4924   44.1277           "
      ]
     },
     "execution_count": 12,
     "metadata": {},
     "output_type": "execute_result"
    }
   ],
   "source": [
    "# Add new column for hotel name\n",
    "hotel_df['Hotel Name'] = ''\n",
    "hotel_df"
   ]
  },
  {
   "cell_type": "code",
   "execution_count": 13,
   "metadata": {},
   "outputs": [
    {
     "name": "stdout",
     "output_type": "stream",
     "text": [
      "Missing field/result... skipping.\n",
      "Missing field/result... skipping.\n",
      "Missing field/result... skipping.\n"
     ]
    }
   ],
   "source": [
    "# Set parameters to search for a hotel\n",
    "params = {\n",
    "    \"radius\": 5000,\n",
    "    \"keyword\": \"hotel\",\n",
    "    \"key\": g_key,\n",
    "}\n",
    "\n",
    "# Iterate through \n",
    "for index, row in hotel_df.iterrows():\n",
    "\n",
    "    # get lat, lng from df\n",
    "    lat = row['Lat']\n",
    "    lng = row['Lng']\n",
    "    params['location'] = f\"{lat},{lng}\"\n",
    "    \n",
    "    # Use the search term: \"Hotel\" and our lat/lng\n",
    "    base_url = \"https://maps.googleapis.com/maps/api/place/nearbysearch/json\"\n",
    "\n",
    "    # make request and print url\n",
    "    hotel_search = requests.get(base_url, params=params)\n",
    "    \n",
    "    # convert to json\n",
    "    hotel_search = hotel_search.json()\n",
    "\n",
    "    # Grab the first hotel from the results and store the name\n",
    "    try:\n",
    "        hotel_df.loc[index,'Hotel Name'] = hotel_search['results'][0]['name']\n",
    "    except (KeyError, IndexError):\n",
    "        print(\"Missing field/result... skipping.\")"
   ]
  },
  {
   "cell_type": "code",
   "execution_count": 14,
   "metadata": {},
   "outputs": [
    {
     "data": {
      "text/html": [
       "<div>\n",
       "<style scoped>\n",
       "    .dataframe tbody tr th:only-of-type {\n",
       "        vertical-align: middle;\n",
       "    }\n",
       "\n",
       "    .dataframe tbody tr th {\n",
       "        vertical-align: top;\n",
       "    }\n",
       "\n",
       "    .dataframe thead th {\n",
       "        text-align: right;\n",
       "    }\n",
       "</style>\n",
       "<table border=\"1\" class=\"dataframe\">\n",
       "  <thead>\n",
       "    <tr style=\"text-align: right;\">\n",
       "      <th></th>\n",
       "      <th>City</th>\n",
       "      <th>Country</th>\n",
       "      <th>Lat</th>\n",
       "      <th>Lng</th>\n",
       "      <th>Hotel Name</th>\n",
       "    </tr>\n",
       "  </thead>\n",
       "  <tbody>\n",
       "    <tr>\n",
       "      <th>1</th>\n",
       "      <td>Jintūr</td>\n",
       "      <td>IN</td>\n",
       "      <td>19.6167</td>\n",
       "      <td>76.7000</td>\n",
       "      <td>Hotel 19 February</td>\n",
       "    </tr>\n",
       "    <tr>\n",
       "      <th>2</th>\n",
       "      <td>Centralina</td>\n",
       "      <td>BR</td>\n",
       "      <td>-18.5839</td>\n",
       "      <td>-49.1994</td>\n",
       "      <td>Hotel Arantes Centralina</td>\n",
       "    </tr>\n",
       "    <tr>\n",
       "      <th>3</th>\n",
       "      <td>Charters Towers</td>\n",
       "      <td>AU</td>\n",
       "      <td>-20.1000</td>\n",
       "      <td>146.2667</td>\n",
       "      <td>Commercial Hotel</td>\n",
       "    </tr>\n",
       "    <tr>\n",
       "      <th>5</th>\n",
       "      <td>Arlit</td>\n",
       "      <td>NE</td>\n",
       "      <td>18.7369</td>\n",
       "      <td>7.3853</td>\n",
       "      <td>Hôtel Temet</td>\n",
       "    </tr>\n",
       "    <tr>\n",
       "      <th>6</th>\n",
       "      <td>Laguna</td>\n",
       "      <td>US</td>\n",
       "      <td>38.4210</td>\n",
       "      <td>-121.4238</td>\n",
       "      <td>Hampton Inn &amp; Suites Sacramento-Elk Grove Lagu...</td>\n",
       "    </tr>\n",
       "    <tr>\n",
       "      <th>7</th>\n",
       "      <td>Makkah al Mukarramah</td>\n",
       "      <td>SA</td>\n",
       "      <td>21.4267</td>\n",
       "      <td>39.8261</td>\n",
       "      <td>Makkah Clock Royal Tower, A Fairmont Hotel</td>\n",
       "    </tr>\n",
       "    <tr>\n",
       "      <th>8</th>\n",
       "      <td>Kosonsoy</td>\n",
       "      <td>UZ</td>\n",
       "      <td>41.2561</td>\n",
       "      <td>71.5508</td>\n",
       "      <td>Гостиница \"Goldstar'</td>\n",
       "    </tr>\n",
       "  </tbody>\n",
       "</table>\n",
       "</div>"
      ],
      "text/plain": [
       "                   City Country      Lat       Lng  \\\n",
       "1                Jintūr      IN  19.6167   76.7000   \n",
       "2            Centralina      BR -18.5839  -49.1994   \n",
       "3       Charters Towers      AU -20.1000  146.2667   \n",
       "5                 Arlit      NE  18.7369    7.3853   \n",
       "6                Laguna      US  38.4210 -121.4238   \n",
       "7  Makkah al Mukarramah      SA  21.4267   39.8261   \n",
       "8              Kosonsoy      UZ  41.2561   71.5508   \n",
       "\n",
       "                                          Hotel Name  \n",
       "1                                  Hotel 19 February  \n",
       "2                           Hotel Arantes Centralina  \n",
       "3                                   Commercial Hotel  \n",
       "5                                        Hôtel Temet  \n",
       "6  Hampton Inn & Suites Sacramento-Elk Grove Lagu...  \n",
       "7         Makkah Clock Royal Tower, A Fairmont Hotel  \n",
       "8                               Гостиница \"Goldstar'  "
      ]
     },
     "execution_count": 14,
     "metadata": {},
     "output_type": "execute_result"
    }
   ],
   "source": [
    "# Drop rows with missing field/result\n",
    "hotel_df = hotel_df.loc[hotel_df['Hotel Name'] != \"\"]\n",
    "hotel_df"
   ]
  },
  {
   "cell_type": "code",
   "execution_count": 15,
   "metadata": {},
   "outputs": [],
   "source": [
    "# Using the template add the hotel marks to the heatmap\n",
    "info_box_template = \"\"\"\n",
    "<dl>\n",
    "<dt>Name</dt><dd>{Hotel Name}</dd>\n",
    "<dt>City</dt><dd>{City}</dd>\n",
    "<dt>Country</dt><dd>{Country}</dd>\n",
    "</dl>\n",
    "\"\"\"\n",
    "# Store the DataFrame Row\n",
    "hotel_info = [info_box_template.format(**row) for index, row in hotel_df.iterrows()]\n",
    "locations = hotel_df[[\"Lat\", \"Lng\"]]"
   ]
  },
  {
   "cell_type": "code",
   "execution_count": 16,
   "metadata": {},
   "outputs": [
    {
     "data": {
      "application/vnd.jupyter.widget-view+json": {
       "model_id": "63833308381e4b00bbd7df514dbf5f5e",
       "version_major": 2,
       "version_minor": 0
      },
      "text/plain": [
       "Figure(layout=FigureLayout(height='420px'))"
      ]
     },
     "metadata": {},
     "output_type": "display_data"
    }
   ],
   "source": [
    "# Add marker layer ontop of heat map\n",
    "hotel_names = hotel_df['Hotel Name'].tolist()\n",
    "\n",
    "hotel_marker = gmaps.marker_layer(\n",
    "    locations,\n",
    "    info_box_content = hotel_info\n",
    ")\n",
    "\n",
    "# Display figure\n",
    "fig = gmaps.figure()\n",
    "fig.add_layer(heat_layer)\n",
    "fig.add_layer(hotel_marker)\n",
    "\n",
    "fig"
   ]
  },
  {
   "cell_type": "code",
   "execution_count": null,
   "metadata": {},
   "outputs": [],
   "source": []
  }
 ],
 "metadata": {
  "kernelspec": {
   "display_name": "Python 3",
   "language": "python",
   "name": "python3"
  },
  "language_info": {
   "codemirror_mode": {
    "name": "ipython",
    "version": 3
   },
   "file_extension": ".py",
   "mimetype": "text/x-python",
   "name": "python",
   "nbconvert_exporter": "python",
   "pygments_lexer": "ipython3",
   "version": "3.8.5"
  }
 },
 "nbformat": 4,
 "nbformat_minor": 4
}
